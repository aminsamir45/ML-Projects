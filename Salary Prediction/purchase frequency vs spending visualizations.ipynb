{
 "cells": [
  {
   "cell_type": "markdown",
   "id": "ba2d8111",
   "metadata": {},
   "source": [
    "Since purchase_frequency and spending are highly correlated, we will analyze this class the most and remove outliers accordingly. I refer to the purchase_frequency_plots in determining normal distributions"
   ]
  },
  {
   "cell_type": "code",
   "execution_count": 1,
   "id": "5e50d8f1",
   "metadata": {},
   "outputs": [],
   "source": [
    "import pandas as pd\n",
    "import numpy as np\n",
    "from ydata_profiling import ProfileReport as report\n",
    "import matplotlib.pyplot as plt\n",
    "import seaborn as sns\n",
    "import plotly.express as px"
   ]
  },
  {
   "cell_type": "code",
   "execution_count": 8,
   "id": "b5db2218",
   "metadata": {},
   "outputs": [],
   "source": [
    "df = pd.read_csv('customer_data.csv').drop('name', axis=1)"
   ]
  },
  {
   "cell_type": "code",
   "execution_count": 16,
   "id": "5d7056e6",
   "metadata": {},
   "outputs": [
    {
     "data": {
      "text/html": [
       "<div>\n",
       "<style scoped>\n",
       "    .dataframe tbody tr th:only-of-type {\n",
       "        vertical-align: middle;\n",
       "    }\n",
       "\n",
       "    .dataframe tbody tr th {\n",
       "        vertical-align: top;\n",
       "    }\n",
       "\n",
       "    .dataframe thead th {\n",
       "        text-align: right;\n",
       "    }\n",
       "</style>\n",
       "<table border=\"1\" class=\"dataframe\">\n",
       "  <thead>\n",
       "    <tr style=\"text-align: right;\">\n",
       "      <th></th>\n",
       "      <th>mean</th>\n",
       "      <th>std</th>\n",
       "    </tr>\n",
       "    <tr>\n",
       "      <th>purchase_frequency</th>\n",
       "      <th></th>\n",
       "      <th></th>\n",
       "    </tr>\n",
       "  </thead>\n",
       "  <tbody>\n",
       "    <tr>\n",
       "      <th>0.1</th>\n",
       "      <td>1780.840321</td>\n",
       "      <td>476.276093</td>\n",
       "    </tr>\n",
       "    <tr>\n",
       "      <th>0.2</th>\n",
       "      <td>3382.138481</td>\n",
       "      <td>836.719128</td>\n",
       "    </tr>\n",
       "    <tr>\n",
       "      <th>0.3</th>\n",
       "      <td>5103.606563</td>\n",
       "      <td>1062.002950</td>\n",
       "    </tr>\n",
       "    <tr>\n",
       "      <th>0.4</th>\n",
       "      <td>7026.963673</td>\n",
       "      <td>1646.964385</td>\n",
       "    </tr>\n",
       "    <tr>\n",
       "      <th>0.5</th>\n",
       "      <td>8672.028465</td>\n",
       "      <td>2191.612031</td>\n",
       "    </tr>\n",
       "    <tr>\n",
       "      <th>0.6</th>\n",
       "      <td>10382.204587</td>\n",
       "      <td>2520.899515</td>\n",
       "    </tr>\n",
       "    <tr>\n",
       "      <th>0.7</th>\n",
       "      <td>12328.151176</td>\n",
       "      <td>2749.214141</td>\n",
       "    </tr>\n",
       "    <tr>\n",
       "      <th>0.8</th>\n",
       "      <td>14051.709691</td>\n",
       "      <td>2759.070344</td>\n",
       "    </tr>\n",
       "    <tr>\n",
       "      <th>0.9</th>\n",
       "      <td>15457.689607</td>\n",
       "      <td>3225.984968</td>\n",
       "    </tr>\n",
       "    <tr>\n",
       "      <th>1.0</th>\n",
       "      <td>17088.080097</td>\n",
       "      <td>4199.229497</td>\n",
       "    </tr>\n",
       "  </tbody>\n",
       "</table>\n",
       "</div>"
      ],
      "text/plain": [
       "                            mean          std\n",
       "purchase_frequency                           \n",
       "0.1                  1780.840321   476.276093\n",
       "0.2                  3382.138481   836.719128\n",
       "0.3                  5103.606563  1062.002950\n",
       "0.4                  7026.963673  1646.964385\n",
       "0.5                  8672.028465  2191.612031\n",
       "0.6                 10382.204587  2520.899515\n",
       "0.7                 12328.151176  2749.214141\n",
       "0.8                 14051.709691  2759.070344\n",
       "0.9                 15457.689607  3225.984968\n",
       "1.0                 17088.080097  4199.229497"
      ]
     },
     "execution_count": 16,
     "metadata": {},
     "output_type": "execute_result"
    }
   ],
   "source": [
    "result = df.groupby('purchase_frequency')['spending'].agg(['mean', 'std'])\n",
    "result"
   ]
  },
  {
   "cell_type": "code",
   "execution_count": 20,
   "id": "bb765797",
   "metadata": {},
   "outputs": [],
   "source": [
    "grouped_df = df.groupby('purchase_frequency')"
   ]
  },
  {
   "cell_type": "code",
   "execution_count": 35,
   "id": "fb8bb819",
   "metadata": {},
   "outputs": [],
   "source": [
    "plt.switch_backend('agg')\n",
    "\n",
    "# Create 10 subplots\n",
    "fig, axes = plt.subplots(nrows=2, ncols=5, figsize=(15, 6))\n",
    "axes = axes.flatten()\n",
    "\n",
    "# Iterate over each purchase frequency group\n",
    "for i, (group, data) in enumerate(grouped_df):\n",
    "    # Plot the data\n",
    "    ax = axes[i]\n",
    "    ax.hist(data['spending'], bins=20)\n",
    "    ax.set_title('Purchase Frequency: {}'.format(group))\n",
    "    ax.set_xlabel('Spending')\n",
    "    ax.set_ylabel('Count')\n",
    "\n",
    "# Adjust the layout\n",
    "plt.tight_layout()\n",
    "\n",
    "# Save the figure instead of showing it\n",
    "plt.savefig('purchase_frequency_plots.png')"
   ]
  },
  {
   "cell_type": "markdown",
   "id": "e84aec08",
   "metadata": {},
   "source": [
    "Try log transform and power transform in order to turn left-skewed data into normal distribution"
   ]
  },
  {
   "cell_type": "code",
   "execution_count": 32,
   "id": "238fd4aa",
   "metadata": {},
   "outputs": [],
   "source": [
    "# log transform\n",
    "\n",
    "log = df.copy()\n",
    "log['spending'] = np.log(log['spending'])\n",
    "\n",
    "grouped_log = log.groupby('purchase_frequency')"
   ]
  },
  {
   "cell_type": "code",
   "execution_count": 30,
   "id": "bcbeac54",
   "metadata": {},
   "outputs": [],
   "source": [
    "plt.switch_backend('agg')\n",
    "\n",
    "# Create 10 subplots\n",
    "fig, axes = plt.subplots(nrows=2, ncols=5, figsize=(15, 6))\n",
    "axes = axes.flatten()\n",
    "\n",
    "# Iterate over each purchase frequency group\n",
    "for i, (group, data) in enumerate(grouped_log):\n",
    "    # Plot the data\n",
    "    ax = axes[i]\n",
    "    ax.hist(data['spending'], bins=20)\n",
    "    ax.set_title('Purchase Frequency: {}'.format(group))\n",
    "    ax.set_xlabel('Spending')\n",
    "    ax.set_ylabel('Count')\n",
    "\n",
    "# Adjust the layout\n",
    "plt.tight_layout()\n",
    "\n",
    "# Save the figure instead of showing it\n",
    "plt.savefig('log_transform_pf_plot.png')"
   ]
  },
  {
   "cell_type": "code",
   "execution_count": 33,
   "id": "2481621b",
   "metadata": {},
   "outputs": [],
   "source": [
    "# Power transform\n",
    "\n",
    "power = df.copy()\n",
    "power['spending'] = np.sqrt(power['spending'])\n",
    "\n",
    "grouped_pow = power.groupby('purchase_frequency')"
   ]
  },
  {
   "cell_type": "code",
   "execution_count": 34,
   "id": "2c46cbb5",
   "metadata": {},
   "outputs": [],
   "source": [
    "plt.switch_backend('agg')\n",
    "\n",
    "# Create 10 subplots\n",
    "fig, axes = plt.subplots(nrows=2, ncols=5, figsize=(15, 6))\n",
    "axes = axes.flatten()\n",
    "\n",
    "# Iterate over each purchase frequency group\n",
    "for i, (group, data) in enumerate(grouped_pow):\n",
    "    # Plot the data\n",
    "    ax = axes[i]\n",
    "    ax.hist(data['spending'], bins=20)\n",
    "    ax.set_title('Purchase Frequency: {}'.format(group))\n",
    "    ax.set_xlabel('Spending')\n",
    "    ax.set_ylabel('Count')\n",
    "\n",
    "# Adjust the layout\n",
    "plt.tight_layout()\n",
    "\n",
    "# Save the figure instead of showing it\n",
    "plt.savefig('power_transform_pf_plot.png')"
   ]
  }
 ],
 "metadata": {
  "kernelspec": {
   "display_name": "Python 3 (ipykernel)",
   "language": "python",
   "name": "python3"
  },
  "language_info": {
   "codemirror_mode": {
    "name": "ipython",
    "version": 3
   },
   "file_extension": ".py",
   "mimetype": "text/x-python",
   "name": "python",
   "nbconvert_exporter": "python",
   "pygments_lexer": "ipython3",
   "version": "3.10.7"
  }
 },
 "nbformat": 4,
 "nbformat_minor": 5
}
