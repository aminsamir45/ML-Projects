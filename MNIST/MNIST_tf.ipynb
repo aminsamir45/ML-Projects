{
  "cells": [
    {
      "cell_type": "markdown",
      "metadata": {
        "id": "view-in-github",
        "colab_type": "text"
      },
      "source": [
        "<a href=\"https://colab.research.google.com/github/aminsamir45/ML-Projects/blob/main/MNIST/MNIST_Pytorch.ipynb\" target=\"_parent\"><img src=\"https://colab.research.google.com/assets/colab-badge.svg\" alt=\"Open In Colab\"/></a>"
      ]
    },
    {
      "cell_type": "code",
      "execution_count": 2,
      "metadata": {
        "colab": {
          "base_uri": "https://localhost:8080/"
        },
        "id": "4q8L4RG_17Qs",
        "outputId": "f19cacde-db76-4476-c1e2-863721bc2dcc"
      },
      "outputs": [
        {
          "output_type": "stream",
          "name": "stdout",
          "text": [
            "Mounted at /content/drive\n"
          ]
        }
      ],
      "source": [
        "# First import libraries needed to solve the problem\n",
        "import numpy as np\n",
        "import matplotlib\n",
        "import matplotlib.pyplot as plt\n",
        "from scipy.io import loadmat\n",
        "from scipy import stats\n",
        "import math\n",
        "import pandas as pd\n",
        "import random\n",
        "import tensorflow as tf\n",
        "import scipy.io\n",
        "from google.colab import drive\n",
        "from keras.models import Sequential\n",
        "from keras.layers import Dense\n",
        "from keras.optimizers import SGD\n",
        "from sklearn.preprocessing import MinMaxScaler\n",
        "from tensorflow.keras.utils import to_categorical\n",
        "from keras.optimizers import SGD\n",
        "drive.mount('/content/drive')"
      ]
    },
    {
      "cell_type": "code",
      "execution_count": 3,
      "metadata": {
        "colab": {
          "base_uri": "https://localhost:8080/",
          "height": 652
        },
        "id": "JfByi_cr2TUm",
        "outputId": "d07d61e9-5029-422f-dd8c-05d39c02d1fa"
      },
      "outputs": [
        {
          "output_type": "display_data",
          "data": {
            "text/plain": [
              "<Figure size 1000x800 with 20 Axes>"
            ],
            "image/png": "[encoded data removed]"
          },
          "metadata": {}
        }
      ],
      "source": [
        "#Load the data\n",
        "training = loadmat('/content/drive/MyDrive/Colab Notebooks/9.53/PSET 3/mnist_training.mat')\n",
        "testing = loadmat('/content/drive/MyDrive/Colab Notebooks/9.53/PSET 3/mnist_test.mat')\n",
        "\n",
        "# mess around with data\n",
        "# Extract the images and labels\n",
        "images = training['X_train']\n",
        "labels = training['y_train']\n",
        "\n",
        "# Plot the first 20 images\n",
        "fig, axs = plt.subplots(4, 5, figsize=(10, 8))\n",
        "for i in range(20):\n",
        "    ax = axs[i // 5, i % 5]\n",
        "    ax.imshow(images[i].reshape((28, 28)), cmap='gray')\n",
        "    ax.axis('off')\n",
        "\n",
        "plt.show()"
      ]
    },
    {
      "cell_type": "code",
      "execution_count": 4,
      "metadata": {
        "colab": {
          "base_uri": "https://localhost:8080/"
        },
        "id": "kS050UqC5iJy",
        "outputId": "9e049f59-11e6-4a1c-ca18-d2c503bfae13"
      },
      "outputs": [
        {
          "output_type": "stream",
          "name": "stdout",
          "text": [
            "(784,)\n",
            "(28, 28)\n"
          ]
        }
      ],
      "source": [
        "# Reshape the vector into a matrix\n",
        "image_reshape = training['X_train'][0].reshape((28, 28))\n",
        "print(images[0].shape)\n",
        "print(image_reshape.shape)"
      ]
    },
    {
      "cell_type": "code",
      "execution_count": 8,
      "metadata": {
        "id": "SBb55T_DGQGb",
        "colab": {
          "base_uri": "https://localhost:8080/"
        },
        "outputId": "a6aedc6f-ad84-4be9-a4c4-ea52c2b65126"
      },
      "outputs": [
        {
          "metadata": {
            "tags": null
          },
          "name": "stderr",
          "output_type": "stream",
          "text": [
            "/usr/local/lib/python3.10/dist-packages/keras/optimizers/legacy/gradient_descent.py:114: UserWarning: The `lr` argument is deprecated, use `learning_rate` instead.\n",
            "  super().__init__(name, **kwargs)\n"
          ]
        },
        {
          "output_type": "stream",
          "name": "stdout",
          "text": [
            "188/188 [==============================] - 0s 1ms/step - loss: 0.0013 - accuracy: 0.9890\n",
            "Training accuracy: 98.90%\n",
            "188/188 [==============================] - 0s 2ms/step - loss: 0.0181 - accuracy: 0.8897\n",
            "Test accuracy: 88.97%\n"
          ]
        }
      ],
      "source": [
        "# training data\n",
        "X_train = training['X_train']\n",
        "y_train = training['y_train']\n",
        "# testing data\n",
        "X_test = testing['X_test']\n",
        "y_test = testing['y_test']\n",
        "# class mapping for one-hot coding\n",
        "class_map = {1: 0, 2: 1, 3: 2, 4: 3, 5: 4, 6: 5, 7: 6, 8: 7, 9: 8, 10: 9}\n",
        "# Convert to one-hot encoding\n",
        "y_train = np.vectorize(class_map.get)(y_train, 0)\n",
        "y_test = np.vectorize(class_map.get)(y_test, 0)\n",
        "y_train = tf.keras.utils.to_categorical(y_train, num_classes=10)\n",
        "y_test = tf.keras.utils.to_categorical(y_test, num_classes=10)\n",
        "# Normalize\n",
        "scaler = MinMaxScaler()\n",
        "X_train = scaler.fit_transform(X_train)\n",
        "X_test = scaler.transform(X_test)\n",
        "\n",
        "# Model architecture\n",
        "model = Sequential()\n",
        "model.add(Dense(25, activation='sigmoid', input_shape=(784,), use_bias=True))\n",
        "model.add(Dense(10, activation='sigmoid', use_bias=True))\n",
        "# Define the optimizer\n",
        "sgd = SGD(lr=0.1)\n",
        "# Compile\n",
        "model.compile(loss='mse', optimizer=sgd, metrics=['accuracy'])\n",
        "# Train\n",
        "history = model.fit(X_train, y_train, epochs=10000, batch_size=16, verbose=0, shuffle=True)\n",
        "# Evaluate on the training set\n",
        "train_loss, train_acc = model.evaluate(X_train, y_train, batch_size=16, verbose=1)\n",
        "print(f'Training accuracy: {train_acc * 100:.2f}%')\n",
        "# Evaluate on the test set\n",
        "loss, accuracy = model.evaluate(X_test, y_test, batch_size=16, verbose=1)\n",
        "# print('Test loss:', loss)\n",
        "print(f'Test accuracy: {accuracy * 100:.2f}%')\n"
      ]
    }
  ],
  "metadata": {
    "colab": {
      "provenance": [],
      "authorship_tag": "ABX9TyO4c1LRJ3iYYZWf1QGyLnSY",
      "include_colab_link": true
    },
    "kernelspec": {
      "display_name": "Python 3",
      "name": "python3"
    },
    "language_info": {
      "name": "python"
    }
  },
  "nbformat": 4,
  "nbformat_minor": 0
}
