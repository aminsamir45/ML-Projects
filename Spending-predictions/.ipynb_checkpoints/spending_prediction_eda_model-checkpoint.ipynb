{
 "cells": [
  {
   "cell_type": "markdown",
   "id": "fde50543",
   "metadata": {},
   "source": [
    "In this notebook, I will be creating a model to predict one's salary from a few features"
   ]
  },
  {
   "cell_type": "code",
   "execution_count": 1,
   "id": "e3e567dd",
   "metadata": {},
   "outputs": [],
   "source": [
    "import pandas as pd\n",
    "import numpy as np"
   ]
  },
  {
   "cell_type": "code",
   "execution_count": 5,
   "id": "1d969cfc",
   "metadata": {},
   "outputs": [
    {
     "data": {
      "text/html": [
       "<div>\n",
       "<style scoped>\n",
       "    .dataframe tbody tr th:only-of-type {\n",
       "        vertical-align: middle;\n",
       "    }\n",
       "\n",
       "    .dataframe tbody tr th {\n",
       "        vertical-align: top;\n",
       "    }\n",
       "\n",
       "    .dataframe thead th {\n",
       "        text-align: right;\n",
       "    }\n",
       "</style>\n",
       "<table border=\"1\" class=\"dataframe\">\n",
       "  <thead>\n",
       "    <tr style=\"text-align: right;\">\n",
       "      <th></th>\n",
       "      <th>name</th>\n",
       "      <th>age</th>\n",
       "      <th>gender</th>\n",
       "      <th>education</th>\n",
       "      <th>income</th>\n",
       "      <th>country</th>\n",
       "      <th>purchase_frequency</th>\n",
       "      <th>spending</th>\n",
       "    </tr>\n",
       "  </thead>\n",
       "  <tbody>\n",
       "    <tr>\n",
       "      <th>0</th>\n",
       "      <td>Teresa Williams MD</td>\n",
       "      <td>42</td>\n",
       "      <td>Female</td>\n",
       "      <td>High School</td>\n",
       "      <td>53936</td>\n",
       "      <td>Slovenia</td>\n",
       "      <td>0.9</td>\n",
       "      <td>13227.120</td>\n",
       "    </tr>\n",
       "    <tr>\n",
       "      <th>1</th>\n",
       "      <td>Christine Myers</td>\n",
       "      <td>49</td>\n",
       "      <td>Female</td>\n",
       "      <td>Master</td>\n",
       "      <td>82468</td>\n",
       "      <td>Aruba</td>\n",
       "      <td>0.6</td>\n",
       "      <td>12674.040</td>\n",
       "    </tr>\n",
       "    <tr>\n",
       "      <th>2</th>\n",
       "      <td>Dwayne Moreno</td>\n",
       "      <td>55</td>\n",
       "      <td>Male</td>\n",
       "      <td>Bachelor</td>\n",
       "      <td>56941</td>\n",
       "      <td>Cyprus</td>\n",
       "      <td>0.3</td>\n",
       "      <td>5354.115</td>\n",
       "    </tr>\n",
       "    <tr>\n",
       "      <th>3</th>\n",
       "      <td>Amy Norton</td>\n",
       "      <td>24</td>\n",
       "      <td>Female</td>\n",
       "      <td>Bachelor</td>\n",
       "      <td>60651</td>\n",
       "      <td>Palau</td>\n",
       "      <td>0.2</td>\n",
       "      <td>2606.510</td>\n",
       "    </tr>\n",
       "    <tr>\n",
       "      <th>4</th>\n",
       "      <td>Tonya Adams</td>\n",
       "      <td>64</td>\n",
       "      <td>Male</td>\n",
       "      <td>Master</td>\n",
       "      <td>81884</td>\n",
       "      <td>Zambia</td>\n",
       "      <td>0.9</td>\n",
       "      <td>18984.780</td>\n",
       "    </tr>\n",
       "  </tbody>\n",
       "</table>\n",
       "</div>"
      ],
      "text/plain": [
       "                 name  age  gender    education  income   country  \\\n",
       "0  Teresa Williams MD   42  Female  High School   53936  Slovenia   \n",
       "1     Christine Myers   49  Female       Master   82468     Aruba   \n",
       "2       Dwayne Moreno   55    Male     Bachelor   56941    Cyprus   \n",
       "3          Amy Norton   24  Female     Bachelor   60651     Palau   \n",
       "4         Tonya Adams   64    Male       Master   81884    Zambia   \n",
       "\n",
       "   purchase_frequency   spending  \n",
       "0                 0.9  13227.120  \n",
       "1                 0.6  12674.040  \n",
       "2                 0.3   5354.115  \n",
       "3                 0.2   2606.510  \n",
       "4                 0.9  18984.780  "
      ]
     },
     "execution_count": 5,
     "metadata": {},
     "output_type": "execute_result"
    }
   ],
   "source": [
    "df = pd.read_csv('customer_data.csv')\n",
    "df.head()"
   ]
  },
  {
   "cell_type": "code",
   "execution_count": null,
   "id": "179e339b",
   "metadata": {},
   "outputs": [],
   "source": [
    "# Drop name and country\n",
    "df"
   ]
  }
 ],
 "metadata": {
  "kernelspec": {
   "display_name": "Python 3 (ipykernel)",
   "language": "python",
   "name": "python3"
  },
  "language_info": {
   "codemirror_mode": {
    "name": "ipython",
    "version": 3
   },
   "file_extension": ".py",
   "mimetype": "text/x-python",
   "name": "python",
   "nbconvert_exporter": "python",
   "pygments_lexer": "ipython3",
   "version": "3.10.7"
  }
 },
 "nbformat": 4,
 "nbformat_minor": 5
}
