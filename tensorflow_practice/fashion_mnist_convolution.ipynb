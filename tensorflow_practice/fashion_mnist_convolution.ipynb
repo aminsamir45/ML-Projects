{
 "cells": [
  {
   "cell_type": "code",
   "execution_count": 2,
   "metadata": {},
   "outputs": [],
   "source": [
    "import ssl\n",
    "\n",
    "ssl._create_default_https_context = ssl._create_unverified_context"
   ]
  },
  {
   "cell_type": "code",
   "execution_count": 3,
   "metadata": {},
   "outputs": [
    {
     "name": "stdout",
     "output_type": "stream",
     "text": [
      "Downloading data from https://storage.googleapis.com/tensorflow/tf-keras-datasets/train-labels-idx1-ubyte.gz\n",
      "29515/29515 [==============================] - 0s 1us/step\n",
      "Downloading data from https://storage.googleapis.com/tensorflow/tf-keras-datasets/train-images-idx3-ubyte.gz\n",
      "26421880/26421880 [==============================] - 4s 0us/step\n",
      "Downloading data from https://storage.googleapis.com/tensorflow/tf-keras-datasets/t10k-labels-idx1-ubyte.gz\n",
      "5148/5148 [==============================] - 0s 0us/step\n",
      "Downloading data from https://storage.googleapis.com/tensorflow/tf-keras-datasets/t10k-images-idx3-ubyte.gz\n",
      "4422102/4422102 [==============================] - 1s 0us/step\n",
      "Epoch 1/50\n",
      "1875/1875 [==============================] - 18s 9ms/step - loss: 0.4395 - accuracy: 0.8410\n",
      "Epoch 2/50\n",
      "1875/1875 [==============================] - 19s 10ms/step - loss: 0.2904 - accuracy: 0.8939\n",
      "Epoch 3/50\n",
      "1875/1875 [==============================] - 19s 10ms/step - loss: 0.2460 - accuracy: 0.9097\n",
      "Epoch 4/50\n",
      "1875/1875 [==============================] - 18s 10ms/step - loss: 0.2163 - accuracy: 0.9197\n",
      "Epoch 5/50\n",
      "1875/1875 [==============================] - 18s 9ms/step - loss: 0.1888 - accuracy: 0.9298\n",
      "Epoch 6/50\n",
      "1875/1875 [==============================] - 22s 12ms/step - loss: 0.1660 - accuracy: 0.9384\n",
      "Epoch 7/50\n",
      "1875/1875 [==============================] - 20s 11ms/step - loss: 0.1452 - accuracy: 0.9446\n",
      "Epoch 8/50\n",
      "1875/1875 [==============================] - 18s 10ms/step - loss: 0.1260 - accuracy: 0.9522\n",
      "Epoch 9/50\n",
      "1875/1875 [==============================] - 18s 9ms/step - loss: 0.1112 - accuracy: 0.9575\n",
      "Epoch 10/50\n",
      "1875/1875 [==============================] - 17s 9ms/step - loss: 0.0980 - accuracy: 0.9630\n",
      "Epoch 11/50\n",
      "1875/1875 [==============================] - 19s 10ms/step - loss: 0.0856 - accuracy: 0.9676\n",
      "Epoch 12/50\n",
      "1875/1875 [==============================] - 19s 10ms/step - loss: 0.0773 - accuracy: 0.9703\n",
      "Epoch 13/50\n",
      "1875/1875 [==============================] - 18s 10ms/step - loss: 0.0694 - accuracy: 0.9735\n",
      "Epoch 14/50\n",
      "1875/1875 [==============================] - 18s 10ms/step - loss: 0.0597 - accuracy: 0.9779\n",
      "Epoch 15/50\n",
      "1875/1875 [==============================] - 18s 10ms/step - loss: 0.0542 - accuracy: 0.9798\n",
      "Epoch 16/50\n",
      "1875/1875 [==============================] - 18s 10ms/step - loss: 0.0492 - accuracy: 0.9812\n",
      "Epoch 17/50\n",
      "1875/1875 [==============================] - 18s 10ms/step - loss: 0.0445 - accuracy: 0.9834\n",
      "Epoch 18/50\n",
      "1875/1875 [==============================] - 18s 10ms/step - loss: 0.0400 - accuracy: 0.9852\n",
      "Epoch 19/50\n",
      "1875/1875 [==============================] - 18s 9ms/step - loss: 0.0389 - accuracy: 0.9851\n",
      "Epoch 20/50\n",
      "1875/1875 [==============================] - 18s 10ms/step - loss: 0.0361 - accuracy: 0.9869\n",
      "Epoch 21/50\n",
      "1875/1875 [==============================] - 19s 10ms/step - loss: 0.0344 - accuracy: 0.9876\n",
      "Epoch 22/50\n",
      "1875/1875 [==============================] - 18s 9ms/step - loss: 0.0318 - accuracy: 0.9886\n",
      "Epoch 23/50\n",
      "1875/1875 [==============================] - 18s 10ms/step - loss: 0.0297 - accuracy: 0.9890\n",
      "Epoch 24/50\n",
      "1875/1875 [==============================] - 18s 10ms/step - loss: 0.0283 - accuracy: 0.9901\n",
      "Epoch 25/50\n",
      "1875/1875 [==============================] - 18s 10ms/step - loss: 0.0278 - accuracy: 0.9902\n",
      "Epoch 26/50\n",
      "1875/1875 [==============================] - 18s 9ms/step - loss: 0.0290 - accuracy: 0.9901\n",
      "Epoch 27/50\n",
      "1875/1875 [==============================] - 18s 9ms/step - loss: 0.0274 - accuracy: 0.9903\n",
      "Epoch 28/50\n",
      "1875/1875 [==============================] - 18s 9ms/step - loss: 0.0244 - accuracy: 0.9916\n",
      "Epoch 29/50\n",
      "1875/1875 [==============================] - 18s 10ms/step - loss: 0.0247 - accuracy: 0.9913\n",
      "Epoch 30/50\n",
      "1875/1875 [==============================] - 18s 10ms/step - loss: 0.0207 - accuracy: 0.9924\n",
      "Epoch 31/50\n",
      "1875/1875 [==============================] - 18s 10ms/step - loss: 0.0233 - accuracy: 0.9921\n",
      "Epoch 32/50\n",
      "1875/1875 [==============================] - 19s 10ms/step - loss: 0.0235 - accuracy: 0.9921\n",
      "Epoch 33/50\n",
      "1875/1875 [==============================] - 19s 10ms/step - loss: 0.0211 - accuracy: 0.9923\n",
      "Epoch 34/50\n",
      "1875/1875 [==============================] - 18s 9ms/step - loss: 0.0215 - accuracy: 0.9926\n",
      "Epoch 35/50\n",
      "1875/1875 [==============================] - 19s 10ms/step - loss: 0.0216 - accuracy: 0.9926\n",
      "Epoch 36/50\n",
      "1875/1875 [==============================] - 21s 11ms/step - loss: 0.0217 - accuracy: 0.9928\n",
      "Epoch 37/50\n",
      "1875/1875 [==============================] - 19s 10ms/step - loss: 0.0192 - accuracy: 0.9933\n",
      "Epoch 38/50\n",
      "1875/1875 [==============================] - 19s 10ms/step - loss: 0.0227 - accuracy: 0.9925\n",
      "Epoch 39/50\n",
      "1875/1875 [==============================] - 18s 9ms/step - loss: 0.0168 - accuracy: 0.9943\n",
      "Epoch 40/50\n",
      "1875/1875 [==============================] - 18s 9ms/step - loss: 0.0217 - accuracy: 0.9932\n",
      "Epoch 41/50\n",
      "1875/1875 [==============================] - 18s 10ms/step - loss: 0.0160 - accuracy: 0.9941\n",
      "Epoch 42/50\n",
      "1875/1875 [==============================] - 18s 9ms/step - loss: 0.0207 - accuracy: 0.9933\n",
      "Epoch 43/50\n",
      "1875/1875 [==============================] - 18s 9ms/step - loss: 0.0171 - accuracy: 0.9948\n",
      "Epoch 44/50\n",
      "1875/1875 [==============================] - 18s 9ms/step - loss: 0.0166 - accuracy: 0.9946\n",
      "Epoch 45/50\n",
      "1875/1875 [==============================] - 18s 9ms/step - loss: 0.0196 - accuracy: 0.9938\n",
      "Epoch 46/50\n",
      "1875/1875 [==============================] - 18s 9ms/step - loss: 0.0173 - accuracy: 0.9945\n",
      "Epoch 47/50\n",
      "1875/1875 [==============================] - 18s 9ms/step - loss: 0.0192 - accuracy: 0.9938\n",
      "Epoch 48/50\n",
      "1875/1875 [==============================] - 18s 9ms/step - loss: 0.0162 - accuracy: 0.9946\n",
      "Epoch 49/50\n",
      "1875/1875 [==============================] - 18s 9ms/step - loss: 0.0200 - accuracy: 0.9941\n",
      "Epoch 50/50\n",
      "1875/1875 [==============================] - 18s 9ms/step - loss: 0.0183 - accuracy: 0.9941\n",
      "313/313 [==============================] - 1s 3ms/step - loss: 0.9631 - accuracy: 0.9054\n"
     ]
    },
    {
     "data": {
      "text/plain": [
       "[0.9631252884864807, 0.9053999781608582]"
      ]
     },
     "execution_count": 3,
     "metadata": {},
     "output_type": "execute_result"
    }
   ],
   "source": [
    "import tensorflow as tf\n",
    "\n",
    "data = tf.keras.datasets.fashion_mnist\n",
    "\n",
    "(training_images, training_labels), (test_images, test_labels) = data.load_data()\n",
    "training_images = training_images.reshape(60000, 28, 28, 1)\n",
    "training_images = training_images / 255.0\n",
    "test_images = test_images.reshape(10000, 28, 28, 1)\n",
    "test_images = test_images / 255.0\n",
    "\n",
    "model = tf.keras.models.Sequential([\n",
    "            tf.keras.layers.Conv2D(64, (3, 3), activation='relu',\n",
    "            input_shape=(28, 28, 1)),\n",
    "            tf.keras.layers.MaxPooling2D(2, 2),\n",
    "            tf.keras.layers.Conv2D(64, (3, 3), activation='relu'),\n",
    "            tf.keras.layers.MaxPooling2D(2,2),\n",
    "            tf.keras.layers.Flatten(),\n",
    "            tf.keras.layers.Dense(128, activation=tf.nn.relu),\n",
    "            tf.keras.layers.Dense(10, activation=tf.nn.softmax)\n",
    " ])\n",
    "model.compile(optimizer='adam',\n",
    "        loss='sparse_categorical_crossentropy',\n",
    "        metrics=['accuracy'])\n",
    "\n",
    "model.fit(training_images, training_labels, epochs=50)"
   ]
  },
  {
   "cell_type": "code",
   "execution_count": 5,
   "metadata": {},
   "outputs": [
    {
     "name": "stdout",
     "output_type": "stream",
     "text": [
      "Loss: 0.9631252884864807\n",
      "Accuracy: 0.9053999781608582\n"
     ]
    }
   ],
   "source": [
    "l, a = model.evaluate(test_images, test_labels, verbose=0)\n",
    "\n",
    "print(f'Loss: {l}')\n",
    "print(f'Accuracy: {a}')"
   ]
  }
 ],
 "metadata": {
  "kernelspec": {
   "display_name": "Python 3",
   "language": "python",
   "name": "python3"
  },
  "language_info": {
   "codemirror_mode": {
    "name": "ipython",
    "version": 3
   },
   "file_extension": ".py",
   "mimetype": "text/x-python",
   "name": "python",
   "nbconvert_exporter": "python",
   "pygments_lexer": "ipython3",
   "version": "3.11.4"
  },
  "orig_nbformat": 4
 },
 "nbformat": 4,
 "nbformat_minor": 2
}
