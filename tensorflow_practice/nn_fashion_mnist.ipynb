{
 "cells": [
  {
   "cell_type": "code",
   "execution_count": 5,
   "metadata": {},
   "outputs": [],
   "source": [
    "import ssl\n",
    "\n",
    "ssl._create_default_https_context = ssl._create_unverified_context"
   ]
  },
  {
   "cell_type": "code",
   "execution_count": 7,
   "metadata": {},
   "outputs": [
    {
     "name": "stdout",
     "output_type": "stream",
     "text": [
      "Epoch 1/50\n",
      "1875/1875 [==============================] - 1s 606us/step - loss: 0.5038 - accuracy: 0.8235\n",
      "Epoch 2/50\n",
      "1875/1875 [==============================] - 1s 600us/step - loss: 0.3783 - accuracy: 0.8637\n",
      "Epoch 3/50\n",
      "1875/1875 [==============================] - 1s 653us/step - loss: 0.3403 - accuracy: 0.8768\n",
      "Epoch 4/50\n",
      "1875/1875 [==============================] - 1s 606us/step - loss: 0.3145 - accuracy: 0.8848\n",
      "Epoch 5/50\n",
      "1875/1875 [==============================] - 1s 595us/step - loss: 0.2965 - accuracy: 0.8909\n",
      "Epoch 6/50\n",
      "1875/1875 [==============================] - 1s 604us/step - loss: 0.2805 - accuracy: 0.8954\n",
      "Epoch 7/50\n",
      "1875/1875 [==============================] - 1s 601us/step - loss: 0.2685 - accuracy: 0.8998\n",
      "Epoch 8/50\n",
      "1875/1875 [==============================] - 1s 592us/step - loss: 0.2589 - accuracy: 0.9041\n",
      "Epoch 9/50\n",
      "1875/1875 [==============================] - 1s 596us/step - loss: 0.2492 - accuracy: 0.9067\n",
      "Epoch 10/50\n",
      "1875/1875 [==============================] - 1s 598us/step - loss: 0.2390 - accuracy: 0.9111\n",
      "Epoch 11/50\n",
      "1875/1875 [==============================] - 1s 639us/step - loss: 0.2296 - accuracy: 0.9131\n",
      "Epoch 12/50\n",
      "1875/1875 [==============================] - 1s 604us/step - loss: 0.2245 - accuracy: 0.9151\n",
      "Epoch 13/50\n",
      "1875/1875 [==============================] - 1s 596us/step - loss: 0.2173 - accuracy: 0.9176\n",
      "Epoch 14/50\n",
      "1875/1875 [==============================] - 1s 595us/step - loss: 0.2124 - accuracy: 0.9203\n",
      "Epoch 15/50\n",
      "1875/1875 [==============================] - 1s 596us/step - loss: 0.2058 - accuracy: 0.9217\n",
      "Epoch 16/50\n",
      "1875/1875 [==============================] - 1s 593us/step - loss: 0.1985 - accuracy: 0.9249\n",
      "Epoch 17/50\n",
      "1875/1875 [==============================] - 1s 618us/step - loss: 0.1946 - accuracy: 0.9265\n",
      "Epoch 18/50\n",
      "1875/1875 [==============================] - 1s 597us/step - loss: 0.1890 - accuracy: 0.9291\n",
      "Epoch 19/50\n",
      "1875/1875 [==============================] - 1s 599us/step - loss: 0.1829 - accuracy: 0.9316\n",
      "Epoch 20/50\n",
      "1875/1875 [==============================] - 1s 598us/step - loss: 0.1792 - accuracy: 0.9327\n",
      "Epoch 21/50\n",
      "1875/1875 [==============================] - 1s 602us/step - loss: 0.1762 - accuracy: 0.9341\n",
      "Epoch 22/50\n",
      "1875/1875 [==============================] - 1s 612us/step - loss: 0.1715 - accuracy: 0.9347\n",
      "Epoch 23/50\n",
      "1875/1875 [==============================] - 1s 603us/step - loss: 0.1675 - accuracy: 0.9368\n",
      "Epoch 24/50\n",
      "1875/1875 [==============================] - 1s 591us/step - loss: 0.1637 - accuracy: 0.9382\n",
      "Epoch 25/50\n",
      "1875/1875 [==============================] - 1s 595us/step - loss: 0.1590 - accuracy: 0.9399\n",
      "Epoch 26/50\n",
      "1875/1875 [==============================] - 1s 596us/step - loss: 0.1560 - accuracy: 0.9420\n",
      "Epoch 27/50\n",
      "1875/1875 [==============================] - 1s 602us/step - loss: 0.1518 - accuracy: 0.9424\n",
      "Epoch 28/50\n",
      "1875/1875 [==============================] - 1s 611us/step - loss: 0.1483 - accuracy: 0.9442\n",
      "Epoch 29/50\n",
      "1875/1875 [==============================] - 1s 598us/step - loss: 0.1472 - accuracy: 0.9436\n",
      "Epoch 30/50\n",
      "1875/1875 [==============================] - 1s 598us/step - loss: 0.1444 - accuracy: 0.9456\n",
      "Epoch 31/50\n",
      "1875/1875 [==============================] - 1s 588us/step - loss: 0.1403 - accuracy: 0.9465\n",
      "Epoch 32/50\n",
      "1875/1875 [==============================] - 1s 597us/step - loss: 0.1356 - accuracy: 0.9492\n",
      "Epoch 33/50\n",
      "1875/1875 [==============================] - 1s 612us/step - loss: 0.1353 - accuracy: 0.9489\n",
      "Epoch 34/50\n",
      "1812/1875 [===========================>..] - ETA: 0s - loss: 0.1326 - accuracy: 0.9509\n",
      "Reached 95% accuracy so cancelling training!\n",
      "1875/1875 [==============================] - 1s 610us/step - loss: 0.1330 - accuracy: 0.9509\n"
     ]
    },
    {
     "data": {
      "text/plain": [
       "<keras.src.callbacks.History at 0x298be6b10>"
      ]
     },
     "execution_count": 7,
     "metadata": {},
     "output_type": "execute_result"
    }
   ],
   "source": [
    "import tensorflow as tf\n",
    "\n",
    "data = tf.keras.datasets.fashion_mnist\n",
    "\n",
    "class myCallback(tf.keras.callbacks.Callback):\n",
    "    def on_epoch_end(self, epoch, logs={}):\n",
    "        if(logs.get('accuracy')>0.95):\n",
    "            print(\"\\nReached 95% accuracy so cancelling training!\")\n",
    "            self.model.stop_training = True\n",
    "\n",
    "callbacks = myCallback()\n",
    "\n",
    "(training_images, training_labels), (test_images, test_labels) = data.load_data()\n",
    "\n",
    "training_images = training_images / 255.0\n",
    "test_images = test_images / 255.0\n",
    "\n",
    "model = tf.keras.models.Sequential([\n",
    "            tf.keras.layers.Flatten(input_shape=(28, 28)),\n",
    "            tf.keras.layers.Dense(128, activation=tf.nn.relu),\n",
    "            tf.keras.layers.Dense(10, activation=tf.nn.softmax)\n",
    " ])\n",
    "\n",
    "model.compile(optimizer='adam',\n",
    "                loss='sparse_categorical_crossentropy',\n",
    "                metrics=['accuracy'])\n",
    "\n",
    "model.fit(training_images, training_labels, epochs=50, callbacks=[callbacks])"
   ]
  },
  {
   "cell_type": "code",
   "execution_count": 8,
   "metadata": {},
   "outputs": [
    {
     "name": "stdout",
     "output_type": "stream",
     "text": [
      "Loss: 0.40856632590293884\n",
      "Accuracy: 0.8902000188827515\n"
     ]
    }
   ],
   "source": [
    "l, a = model.evaluate(test_images, test_labels, verbose=0)\n",
    "\n",
    "print(f'Loss: {l}')\n",
    "print(f'Accuracy: {a}')"
   ]
  },
  {
   "cell_type": "code",
   "execution_count": 9,
   "metadata": {},
   "outputs": [],
   "source": [
    "# Callback for different scenarios - more advanced\n",
    "\n",
    "class CustomCallback(tf.keras.callbacks.Callback):\n",
    "    def __init__(self, accuracy_threshold=0.002, loss_threshold=0.002):\n",
    "        super(CustomCallback, self).__init__()\n",
    "        self.accuracy_threshold = accuracy_threshold\n",
    "        self.loss_threshold = loss_threshold\n",
    "        self.best_accuracy = 0\n",
    "        self.best_loss = float('inf')\n",
    "    \n",
    "    def on_epoch_end(self, epoch, logs={}):\n",
    "        current_accuracy = logs.get('accuracy')\n",
    "        current_loss = logs.get('loss')\n",
    "        \n",
    "        if current_accuracy is None or current_loss is None:\n",
    "            return\n",
    "        \n",
    "        accuracy_diff = current_accuracy - self.best_accuracy\n",
    "        loss_diff = self.best_loss - current_loss\n",
    "        \n",
    "        if accuracy_diff <= self.accuracy_threshold and loss_diff <= self.loss_threshold:\n",
    "            print(\"\\nAccuracy and loss improvement below thresholds. Stopping training!\")\n",
    "            self.model.stop_training = True\n",
    "        else:\n",
    "            if current_accuracy > self.best_accuracy:\n",
    "                self.best_accuracy = current_accuracy\n",
    "            if current_loss < self.best_loss:\n",
    "                self.best_loss = current_loss\n",
    "\n",
    "    "
   ]
  }
 ],
 "metadata": {
  "kernelspec": {
   "display_name": "Python 3",
   "language": "python",
   "name": "python3"
  },
  "language_info": {
   "codemirror_mode": {
    "name": "ipython",
    "version": 3
   },
   "file_extension": ".py",
   "mimetype": "text/x-python",
   "name": "python",
   "nbconvert_exporter": "python",
   "pygments_lexer": "ipython3",
   "version": "3.11.4"
  },
  "orig_nbformat": 4
 },
 "nbformat": 4,
 "nbformat_minor": 2
}
