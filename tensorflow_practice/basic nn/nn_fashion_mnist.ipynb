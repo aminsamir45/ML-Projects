{
 "cells": [
  {
   "cell_type": "markdown",
   "metadata": {},
   "source": [
    "# Deep Learning Demo using Tensorflow\n",
    "\n",
    "#### Steps to create a model:\n",
    "\n",
    "1. pip install tensorflow\n",
    "2. import the dependencies\n",
    "3. load the data\n",
    "4. visualize and process the data\n",
    "5. create the layers of your model\n",
    "6. compile the model with loss and optimizer\n",
    "7. train\n",
    "8. test"
   ]
  },
  {
   "cell_type": "code",
   "execution_count": 13,
   "metadata": {},
   "outputs": [],
   "source": [
    "# importing dependencies\n",
    "import tensorflow as tf"
   ]
  },
  {
   "cell_type": "code",
   "execution_count": 23,
   "metadata": {},
   "outputs": [],
   "source": [
    "# load the data\n",
    "data = tf.keras.datasets.fashion_mnist\n",
    "(training_images, training_labels), (test_images, test_labels) = data.load_data()\n",
    "\n",
    "# normalize the data\n",
    "training_images = training_images / 255.0\n",
    "test_images = test_images / 255.0\n"
   ]
  },
  {
   "cell_type": "code",
   "execution_count": 3,
   "metadata": {},
   "outputs": [],
   "source": [
    "# create a callback (optional)\n",
    "class myCallback(tf.keras.callbacks.Callback):\n",
    "    def on_epoch_end(self, epoch, logs={}):\n",
    "        if(logs.get('accuracy')>0.95):\n",
    "            print(\"\\nReached 95% accuracy so cancelling training!\")\n",
    "            self.model.stop_training = True\n",
    "\n",
    "callbacks = myCallback()"
   ]
  },
  {
   "cell_type": "code",
   "execution_count": 4,
   "metadata": {},
   "outputs": [],
   "source": [
    "# create the layers to your model\n",
    "model = tf.keras.models.Sequential([\n",
    "            tf.keras.layers.Flatten(input_shape=(28, 28)),\n",
    "            tf.keras.layers.Dense(128, activation=tf.nn.relu),\n",
    "            tf.keras.layers.Dense(10, activation=tf.nn.softmax)\n",
    " ])"
   ]
  },
  {
   "cell_type": "code",
   "execution_count": 5,
   "metadata": {},
   "outputs": [],
   "source": [
    "# compile the model\n",
    "model.compile(optimizer='adam',\n",
    "                loss='sparse_categorical_crossentropy',\n",
    "                metrics=['accuracy'])"
   ]
  },
  {
   "cell_type": "code",
   "execution_count": 6,
   "metadata": {},
   "outputs": [
    {
     "name": "stdout",
     "output_type": "stream",
     "text": [
      "Epoch 1/50\n",
      "1875/1875 [==============================] - 2s 888us/step - loss: 0.4993 - accuracy: 0.8252\n",
      "Epoch 2/50\n",
      "1875/1875 [==============================] - 1s 629us/step - loss: 0.3766 - accuracy: 0.8649\n",
      "Epoch 3/50\n",
      "1875/1875 [==============================] - 1s 799us/step - loss: 0.3394 - accuracy: 0.8757\n",
      "Epoch 4/50\n",
      "1875/1875 [==============================] - 2s 826us/step - loss: 0.3157 - accuracy: 0.8840\n",
      "Epoch 5/50\n",
      "1875/1875 [==============================] - 1s 722us/step - loss: 0.2978 - accuracy: 0.8896\n",
      "Epoch 6/50\n",
      "1875/1875 [==============================] - 1s 671us/step - loss: 0.2829 - accuracy: 0.8945\n",
      "Epoch 7/50\n",
      "1875/1875 [==============================] - 1s 596us/step - loss: 0.2686 - accuracy: 0.9006\n",
      "Epoch 8/50\n",
      "1875/1875 [==============================] - 1s 618us/step - loss: 0.2583 - accuracy: 0.9037\n",
      "Epoch 9/50\n",
      "1875/1875 [==============================] - 1s 619us/step - loss: 0.2506 - accuracy: 0.9062\n",
      "Epoch 10/50\n",
      "1875/1875 [==============================] - 1s 596us/step - loss: 0.2401 - accuracy: 0.9095\n",
      "Epoch 11/50\n",
      "1875/1875 [==============================] - 1s 618us/step - loss: 0.2312 - accuracy: 0.9137\n",
      "Epoch 12/50\n",
      "1875/1875 [==============================] - 1s 615us/step - loss: 0.2265 - accuracy: 0.9146\n",
      "Epoch 13/50\n",
      "1875/1875 [==============================] - 1s 628us/step - loss: 0.2197 - accuracy: 0.9185\n",
      "Epoch 14/50\n",
      "1875/1875 [==============================] - 1s 606us/step - loss: 0.2117 - accuracy: 0.9200\n",
      "Epoch 15/50\n",
      "1875/1875 [==============================] - 1s 629us/step - loss: 0.2049 - accuracy: 0.9227\n",
      "Epoch 16/50\n",
      "1875/1875 [==============================] - 1s 601us/step - loss: 0.1998 - accuracy: 0.9252\n",
      "Epoch 17/50\n",
      "1875/1875 [==============================] - 1s 682us/step - loss: 0.1937 - accuracy: 0.9273\n",
      "Epoch 18/50\n",
      "1875/1875 [==============================] - 1s 679us/step - loss: 0.1877 - accuracy: 0.9294\n",
      "Epoch 19/50\n",
      "1875/1875 [==============================] - 1s 593us/step - loss: 0.1833 - accuracy: 0.9310\n",
      "Epoch 20/50\n",
      "1875/1875 [==============================] - 1s 596us/step - loss: 0.1806 - accuracy: 0.9317\n",
      "Epoch 21/50\n",
      "1875/1875 [==============================] - 1s 591us/step - loss: 0.1737 - accuracy: 0.9345\n",
      "Epoch 22/50\n",
      "1875/1875 [==============================] - 1s 600us/step - loss: 0.1697 - accuracy: 0.9360\n",
      "Epoch 23/50\n",
      "1875/1875 [==============================] - 1s 582us/step - loss: 0.1665 - accuracy: 0.9371\n",
      "Epoch 24/50\n",
      "1875/1875 [==============================] - 1s 579us/step - loss: 0.1640 - accuracy: 0.9388\n",
      "Epoch 25/50\n",
      "1875/1875 [==============================] - 1s 588us/step - loss: 0.1578 - accuracy: 0.9416\n",
      "Epoch 26/50\n",
      "1875/1875 [==============================] - 1s 577us/step - loss: 0.1544 - accuracy: 0.9421\n",
      "Epoch 27/50\n",
      "1875/1875 [==============================] - 1s 584us/step - loss: 0.1508 - accuracy: 0.9434\n",
      "Epoch 28/50\n",
      "1875/1875 [==============================] - 1s 601us/step - loss: 0.1491 - accuracy: 0.9438\n",
      "Epoch 29/50\n",
      "1875/1875 [==============================] - 1s 589us/step - loss: 0.1453 - accuracy: 0.9451\n",
      "Epoch 30/50\n",
      "1875/1875 [==============================] - 1s 607us/step - loss: 0.1421 - accuracy: 0.9463\n",
      "Epoch 31/50\n",
      "1875/1875 [==============================] - 1s 631us/step - loss: 0.1384 - accuracy: 0.9485\n",
      "Epoch 32/50\n",
      "1875/1875 [==============================] - 1s 734us/step - loss: 0.1370 - accuracy: 0.9492\n",
      "Epoch 33/50\n",
      "1875/1875 [==============================] - 1s 679us/step - loss: 0.1340 - accuracy: 0.9497\n",
      "Epoch 34/50\n",
      "1822/1875 [============================>.] - ETA: 0s - loss: 0.1310 - accuracy: 0.9503\n",
      "Reached 95% accuracy so cancelling training!\n",
      "1875/1875 [==============================] - 1s 663us/step - loss: 0.1310 - accuracy: 0.9503\n"
     ]
    },
    {
     "data": {
      "text/plain": [
       "<keras.src.callbacks.History at 0x1791cb9d0>"
      ]
     },
     "execution_count": 6,
     "metadata": {},
     "output_type": "execute_result"
    }
   ],
   "source": [
    "# train your model\n",
    "model.fit(training_images, training_labels, epochs=50, callbacks=[callbacks])"
   ]
  },
  {
   "cell_type": "code",
   "execution_count": 7,
   "metadata": {},
   "outputs": [
    {
     "name": "stdout",
     "output_type": "stream",
     "text": [
      "Loss: 0.4704233407974243\n",
      "Accuracy: 0.8762000203132629\n"
     ]
    }
   ],
   "source": [
    "# test your model\n",
    "l, a = model.evaluate(test_images, test_labels, verbose=0)\n",
    "\n",
    "print(f'Loss: {l}')\n",
    "print(f'Accuracy: {a}')"
   ]
  },
  {
   "cell_type": "code",
   "execution_count": 8,
   "metadata": {},
   "outputs": [],
   "source": [
    "# Callback for different scenarios - more advanced\n",
    "\n",
    "class CustomCallback(tf.keras.callbacks.Callback):\n",
    "    def __init__(self, accuracy_threshold=0.002, loss_threshold=0.002):\n",
    "        super(CustomCallback, self).__init__()\n",
    "        self.accuracy_threshold = accuracy_threshold\n",
    "        self.loss_threshold = loss_threshold\n",
    "        self.best_accuracy = 0\n",
    "        self.best_loss = float('inf')\n",
    "    \n",
    "    def on_epoch_end(self, epoch, logs={}):\n",
    "        current_accuracy = logs.get('accuracy')\n",
    "        current_loss = logs.get('loss')\n",
    "        \n",
    "        if current_accuracy is None or current_loss is None:\n",
    "            return\n",
    "        \n",
    "        accuracy_diff = current_accuracy - self.best_accuracy\n",
    "        loss_diff = self.best_loss - current_loss\n",
    "        \n",
    "        if accuracy_diff <= self.accuracy_threshold and loss_diff <= self.loss_threshold:\n",
    "            print(\"\\nAccuracy and loss improvement below thresholds. Stopping training!\")\n",
    "            self.model.stop_training = True\n",
    "        else:\n",
    "            if current_accuracy > self.best_accuracy:\n",
    "                self.best_accuracy = current_accuracy\n",
    "            if current_loss < self.best_loss:\n",
    "                self.best_loss = current_loss\n",
    "\n",
    "    "
   ]
  }
 ],
 "metadata": {
  "kernelspec": {
   "display_name": "Python 3",
   "language": "python",
   "name": "python3"
  },
  "language_info": {
   "codemirror_mode": {
    "name": "ipython",
    "version": 3
   },
   "file_extension": ".py",
   "mimetype": "text/x-python",
   "name": "python",
   "nbconvert_exporter": "python",
   "pygments_lexer": "ipython3",
   "version": "3.11.4"
  },
  "orig_nbformat": 4
 },
 "nbformat": 4,
 "nbformat_minor": 2
}
