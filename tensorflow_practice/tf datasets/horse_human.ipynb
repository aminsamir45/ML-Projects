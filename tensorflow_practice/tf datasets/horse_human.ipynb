{
 "cells": [
  {
   "cell_type": "code",
   "execution_count": 19,
   "metadata": {},
   "outputs": [],
   "source": [
    "# imports\n",
    "import tensorflow as tf\n",
    "import tensorflow_datasets as tfds\n",
    "from tensorflow import keras\n",
    "from keras.layers import Dense, Conv2D, MaxPool2D\n",
    "from keras.models import Sequential"
   ]
  },
  {
   "cell_type": "code",
   "execution_count": 39,
   "metadata": {},
   "outputs": [],
   "source": [
    "# load the data\n",
    "horse_human = tfds.as_numpy(tfds.load('horses_or_humans', split='train',\n",
    "                                      batch_size=-1, as_supervised=True))"
   ]
  },
  {
   "cell_type": "code",
   "execution_count": null,
   "metadata": {},
   "outputs": [
    {
     "data": {
      "text/plain": [
       "(<_PrefetchDataset element_spec={'image': TensorSpec(shape=(300, 300, 3), dtype=tf.uint8, name=None), 'label': TensorSpec(shape=(), dtype=tf.int64, name=None)}>,\n",
       " tfds.core.DatasetInfo(\n",
       "     name='horses_or_humans',\n",
       "     full_name='horses_or_humans/3.0.0',\n",
       "     description=\"\"\"\n",
       "     A large set of images of horses and humans.\n",
       "     \"\"\",\n",
       "     homepage='http://laurencemoroney.com/horses-or-humans-dataset',\n",
       "     data_path='/Users/samin/tensorflow_datasets/horses_or_humans/3.0.0',\n",
       "     file_format=tfrecord,\n",
       "     download_size=153.59 MiB,\n",
       "     dataset_size=153.53 MiB,\n",
       "     features=FeaturesDict({\n",
       "         'image': Image(shape=(300, 300, 3), dtype=uint8),\n",
       "         'label': ClassLabel(shape=(), dtype=int64, num_classes=2),\n",
       "     }),\n",
       "     supervised_keys=('image', 'label'),\n",
       "     disable_shuffling=False,\n",
       "     splits={\n",
       "         'test': <SplitInfo num_examples=256, num_shards=1>,\n",
       "         'train': <SplitInfo num_examples=1027, num_shards=2>,\n",
       "     },\n",
       "     citation=\"\"\"@ONLINE {horses_or_humans,\n",
       "     author = \"Laurence Moroney\",\n",
       "     title = \"Horses or Humans Dataset\",\n",
       "     month = \"feb\",\n",
       "     year = \"2019\",\n",
       "     url = \"http://laurencemoroney.com/horses-or-humans-dataset\"\n",
       "     }\"\"\",\n",
       " ))"
      ]
     },
     "execution_count": 3,
     "metadata": {},
     "output_type": "execute_result"
    }
   ],
   "source": [
    "horse_human"
   ]
  },
  {
   "cell_type": "code",
   "execution_count": 29,
   "metadata": {},
   "outputs": [],
   "source": [
    "# normalize the data\n",
    "(im, label) = horse_human\n",
    "im = im/255.0"
   ]
  },
  {
   "cell_type": "code",
   "execution_count": 30,
   "metadata": {},
   "outputs": [],
   "source": [
    "# create the model\n",
    "model = keras.models.Sequential([\n",
    "    keras.layers.Conv2D(16, (3, 3), padding=\"same\", strides=2, activation='relu'),\n",
    "    keras.layers.MaxPool2D(2,2),\n",
    "    keras.layers.Conv2D(32, (3,3), padding='same', strides=2, activation='relu'),\n",
    "    keras.layers.MaxPool2D(2,2),\n",
    "    keras.layers.Flatten(),\n",
    "    keras.layers.Dense(64, activation='relu'),\n",
    "    keras.layers.Dense(1, activation='sigmoid')\n",
    "    \n",
    "])"
   ]
  },
  {
   "cell_type": "code",
   "execution_count": 31,
   "metadata": {},
   "outputs": [],
   "source": [
    "model.compile(loss='binary_crossentropy', optimizer='adam', \n",
    "                metrics=['accuracy'])"
   ]
  },
  {
   "cell_type": "code",
   "execution_count": 32,
   "metadata": {},
   "outputs": [
    {
     "name": "stdout",
     "output_type": "stream",
     "text": [
      "Epoch 1/15\n",
      "26/26 [==============================] - 5s 158ms/step - loss: 0.4955 - accuracy: 0.7515 - val_loss: 0.2217 - val_accuracy: 0.9223\n",
      "Epoch 2/15\n",
      "26/26 [==============================] - 3s 111ms/step - loss: 0.1395 - accuracy: 0.9562 - val_loss: 0.1149 - val_accuracy: 0.9563\n",
      "Epoch 3/15\n",
      "26/26 [==============================] - 3s 112ms/step - loss: 0.0733 - accuracy: 0.9781 - val_loss: 0.0787 - val_accuracy: 0.9806\n",
      "Epoch 4/15\n",
      "26/26 [==============================] - 3s 113ms/step - loss: 0.0539 - accuracy: 0.9817 - val_loss: 0.0492 - val_accuracy: 0.9854\n",
      "Epoch 5/15\n",
      "26/26 [==============================] - 3s 117ms/step - loss: 0.0297 - accuracy: 0.9915 - val_loss: 0.0285 - val_accuracy: 0.9903\n",
      "Epoch 6/15\n",
      "26/26 [==============================] - 3s 120ms/step - loss: 0.0166 - accuracy: 0.9951 - val_loss: 0.0176 - val_accuracy: 0.9951\n",
      "Epoch 7/15\n",
      "26/26 [==============================] - 3s 114ms/step - loss: 0.0063 - accuracy: 1.0000 - val_loss: 0.0127 - val_accuracy: 1.0000\n",
      "Epoch 8/15\n",
      "26/26 [==============================] - 3s 100ms/step - loss: 0.0037 - accuracy: 1.0000 - val_loss: 0.0097 - val_accuracy: 1.0000\n",
      "Epoch 9/15\n",
      "26/26 [==============================] - 3s 114ms/step - loss: 0.0027 - accuracy: 1.0000 - val_loss: 0.0070 - val_accuracy: 1.0000\n",
      "Epoch 10/15\n",
      "26/26 [==============================] - 3s 116ms/step - loss: 0.0021 - accuracy: 1.0000 - val_loss: 0.0052 - val_accuracy: 1.0000\n",
      "Epoch 11/15\n",
      "26/26 [==============================] - 3s 117ms/step - loss: 0.0016 - accuracy: 1.0000 - val_loss: 0.0056 - val_accuracy: 1.0000\n",
      "Epoch 12/15\n",
      "26/26 [==============================] - 3s 113ms/step - loss: 0.0013 - accuracy: 1.0000 - val_loss: 0.0044 - val_accuracy: 1.0000\n",
      "Epoch 13/15\n",
      "26/26 [==============================] - 3s 115ms/step - loss: 0.0010 - accuracy: 1.0000 - val_loss: 0.0040 - val_accuracy: 1.0000\n",
      "Epoch 14/15\n",
      "26/26 [==============================] - 5s 174ms/step - loss: 8.9384e-04 - accuracy: 1.0000 - val_loss: 0.0036 - val_accuracy: 1.0000\n",
      "Epoch 15/15\n",
      "26/26 [==============================] - 4s 154ms/step - loss: 7.6880e-04 - accuracy: 1.0000 - val_loss: 0.0035 - val_accuracy: 1.0000\n"
     ]
    },
    {
     "data": {
      "text/plain": [
       "<keras.src.callbacks.History at 0x2aae6ff10>"
      ]
     },
     "execution_count": 32,
     "metadata": {},
     "output_type": "execute_result"
    }
   ],
   "source": [
    "model.fit(im, label, validation_split=0.2, epochs=15)"
   ]
  }
 ],
 "metadata": {
  "kernelspec": {
   "display_name": "Python 3",
   "language": "python",
   "name": "python3"
  },
  "language_info": {
   "codemirror_mode": {
    "name": "ipython",
    "version": 3
   },
   "file_extension": ".py",
   "mimetype": "text/x-python",
   "name": "python",
   "nbconvert_exporter": "python",
   "pygments_lexer": "ipython3",
   "version": "3.11.4"
  },
  "orig_nbformat": 4
 },
 "nbformat": 4,
 "nbformat_minor": 2
}
