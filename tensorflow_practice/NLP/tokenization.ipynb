{
 "cells": [
  {
   "cell_type": "code",
   "execution_count": 12,
   "metadata": {},
   "outputs": [],
   "source": [
    "# Imports\n",
    "import tensorflow as tf\n",
    "from tensorflow import keras\n",
    "from keras.preprocessing.text import Tokenizer\n",
    "from keras.layers import TextVectorization\n",
    "\n",
    "from keras.preprocessing.sequence import pad_sequences"
   ]
  },
  {
   "cell_type": "code",
   "execution_count": 11,
   "metadata": {},
   "outputs": [
    {
     "name": "stdout",
     "output_type": "stream",
     "text": [
      "[[3, 2, 4], [5, 2, 6]]\n",
      "[[1, 1, 1, 1, 2, 4], [2, 1, 5]]\n"
     ]
    }
   ],
   "source": [
    "# testing out the tokenizer \n",
    "sentences = [\n",
    "    'Hello, my friend!',\n",
    "    'Goodbye, my brother.'\n",
    "]\n",
    "\n",
    "test_sentences = [\n",
    "    'Hi, how are you my friend?',\n",
    "    'My sister, goodbye!'\n",
    "]\n",
    "\n",
    "tokenizer = Tokenizer(num_words = 100, oov_token='<OOV>')\n",
    "tokenizer.fit_on_texts(sentences)\n",
    "word_index = tokenizer.word_index\n",
    "\n",
    "sequences = tokenizer.texts_to_sequences(sentences)\n",
    "test_sequences = tokenizer.texts_to_sequences(test_sentences)\n",
    "print(sequences)\n",
    "print(test_sequences)"
   ]
  },
  {
   "cell_type": "code",
   "execution_count": 17,
   "metadata": {},
   "outputs": [
    {
     "name": "stdout",
     "output_type": "stream",
     "text": [
      "[[0 0 0 0 1 1 1 1 2 4]\n",
      " [0 0 0 0 0 0 0 2 1 5]]\n"
     ]
    }
   ],
   "source": [
    "# dealing with padding\n",
    "padded = pad_sequences(test_sequences, maxlen=10)\n",
    "print(padded)"
   ]
  },
  {
   "cell_type": "code",
   "execution_count": 19,
   "metadata": {},
   "outputs": [],
   "source": [
    "# remove html tages from sentence\n",
    "from bs4 import BeautifulSoup\n",
    "soup = BeautifulSoup(sentences[0])\n",
    "sentence = soup.get_text()"
   ]
  },
  {
   "cell_type": "code",
   "execution_count": 22,
   "metadata": {},
   "outputs": [],
   "source": [
    "# remove stopwords\n",
    "stopwords = [\"a\", \"about\", \"above\", \"yours\", \"yourself\", \"yourselves\"]\n",
    "\n",
    "import string\n",
    "table = str.maketrans('', '', string.punctuation)\n",
    "words = sentence.split()\n",
    "filtered_sentence = \"\"\n",
    "for word in words:\n",
    "    if word not in stopwords:\n",
    "        filtered_sentence = filtered_sentence + word + \" \"\n",
    "sentences.append(filtered_sentence)"
   ]
  }
 ],
 "metadata": {
  "kernelspec": {
   "display_name": "Python 3",
   "language": "python",
   "name": "python3"
  },
  "language_info": {
   "codemirror_mode": {
    "name": "ipython",
    "version": 3
   },
   "file_extension": ".py",
   "mimetype": "text/x-python",
   "name": "python",
   "nbconvert_exporter": "python",
   "pygments_lexer": "ipython3",
   "version": "3.11.4"
  },
  "orig_nbformat": 4
 },
 "nbformat": 4,
 "nbformat_minor": 2
}
